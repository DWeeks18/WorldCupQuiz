{
  "nbformat": 4,
  "nbformat_minor": 0,
  "metadata": {
    "colab": {
      "provenance": [],
      "authorship_tag": "ABX9TyOXvIt1QbJ/Ss7ImTRpmalZ",
      "include_colab_link": true
    },
    "kernelspec": {
      "name": "python3",
      "display_name": "Python 3"
    },
    "language_info": {
      "name": "python"
    }
  },
  "cells": [
    {
      "cell_type": "markdown",
      "metadata": {
        "id": "view-in-github",
        "colab_type": "text"
      },
      "source": [
        "<a href=\"https://colab.research.google.com/github/DWeeks18/WorldCupQuiz/blob/main/World_Cup_Quiz.ipynb\" target=\"_parent\"><img src=\"https://colab.research.google.com/assets/colab-badge.svg\" alt=\"Open In Colab\"/></a>"
      ]
    },
    {
      "cell_type": "code",
      "execution_count": null,
      "metadata": {
        "colab": {
          "base_uri": "https://localhost:8080/"
        },
        "id": "bPnSE5Von34R",
        "outputId": "bd2ccf3c-ae59-4b43-aa1d-80c6d800b740"
      },
      "outputs": [
        {
          "output_type": "stream",
          "name": "stdout",
          "text": [
            "-----------------------------------------\n",
            "How many world cups have taken place?:\n",
            "\n",
            "A. 15\n",
            "B. 22\n",
            "C. 25\n",
            "D. 18\n"
          ]
        }
      ],
      "source": [
        "questions = (\"How many world cups have taken place?:\",\n",
        "             \"Which World Cups were skipped due to a global crisis?:\",\n",
        "             \"Which player has scored the most World Cup goals?:\",\n",
        "             \"Which country has won the most matches without reaching the final?:\",\n",
        "             \"Which country has qualified for the most World Cups in the competition history?:\",\n",
        "             \"How many countries have hosted the World Cup more than once?:\",\n",
        "             \"Which year did Maradona's 'Hand of God' take place?:\",\n",
        "             \"What is the record score for a World Cup match?:\")\n",
        "\n",
        "options = ((\"A. 15\", \"B. 22\", \"C. 25\", \"D. 18\"),\n",
        "           (\"A. 1950 and 1952\", \"B. 1970 and 1974\", \"C. 1942 and 1946\", \"D. 1986 and 1990\"),\n",
        "           (\"A. Ronaldo\", \"B. Pele\", \"C. Klose\", \"D. Messi\"),\n",
        "           (\"A. Belgium\", \"B. Croatia\", \"C. Portugal\", \"D. Sweden\"),\n",
        "           (\"A. England\", \"B. France\", \"C. Brazil\", \"D. Germany\"),\n",
        "           (\"A. 6\", \"B. 10\", \"C. 8\", \"D. 5\"),\n",
        "           (\"A. 1982\", \"B. 1978\", \"C. 1986\", \"D. 1980\"),\n",
        "           (\"A. 9-0\", \"B. 10-1\", \"C. 7-2\", \"D. 6-0\"))\n",
        "\n",
        "answers = (\"B\", \"C\", \"C\", \"A\", \"C\", \"D\", \"C\", \"B\")\n",
        "guesses = []\n",
        "score = 0\n",
        "\n",
        "for question_num, question in enumerate(questions):\n",
        "    print(\"-----------------------------------------\")\n",
        "    print(question)\n",
        "    print() #space between questions and answers\n",
        "    for option in options[question_num]:\n",
        "        print(option)\n",
        "\n",
        "    guess = input(\"Enter (A, B, C, D): \").upper()\n",
        "    guesses.append(guess)\n",
        "    if guess == answers[question_num]:\n",
        "        score += 1\n",
        "        print()\n",
        "        print(\"correct\")\n",
        "        print()\n",
        "    else:\n",
        "        print()\n",
        "        print(\"incorrect\")\n",
        "        print()\n",
        "        print(f\"{answers[question_num]} is the correct answer\")\n",
        "\n",
        "print(\"-----------------\")\n",
        "print(\"     Results     \")\n",
        "print(\"-----------------\")\n",
        "\n",
        "print(\"answers: \", end=\"\")\n",
        "for answer in answers:\n",
        "    print(answer, end=\" \")\n",
        "print()\n",
        "\n",
        "print(\"guesses: \", end=\"\")\n",
        "for guess in guesses:\n",
        "    print(guess, end=\" \")\n",
        "print()\n",
        "print()\n",
        "score = int(score / len(questions) * 100)\n",
        "print(f\"Your score is: {score}%\")"
      ]
    }
  ]
}